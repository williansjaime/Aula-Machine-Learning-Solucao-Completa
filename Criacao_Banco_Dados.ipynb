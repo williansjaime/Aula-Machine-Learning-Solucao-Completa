{
 "cells": [
  {
   "cell_type": "code",
   "execution_count": 2,
   "metadata": {},
   "outputs": [],
   "source": [
    "#Criar bannco de dados \n",
    "import sqlite3\n",
    "\n",
    "#Cria o banco [caso exista fas a conexoa else conecta]\n",
    "Conexao_Banco = sqlite3.connect(\"Banco_Dados_API.db\")"
   ]
  },
  {
   "cell_type": "code",
   "execution_count": 3,
   "metadata": {},
   "outputs": [],
   "source": [
    "#Apontar para o banco\n",
    "Cursor = Conexao_Banco.cursor()"
   ]
  },
  {
   "cell_type": "code",
   "execution_count": 3,
   "metadata": {},
   "outputs": [
    {
     "data": {
      "text/plain": [
       "<sqlite3.Cursor at 0x7ffacf278540>"
      ]
     },
     "execution_count": 3,
     "metadata": {},
     "output_type": "execute_result"
    }
   ],
   "source": [
    "#Query--> Criar uma tabela\n",
    "Query_Criar_Banco = '''\n",
    "CREATE TABLE Log_API (\n",
    "    id INTEGER NOT NULL PRIMARY KEY AUTOINCREMENT,\n",
    "    Inputs TEXT,\n",
    "    Inicio TEXT,\n",
    "    Fim TEXT,\n",
    "    Processamento TEXT\n",
    ")\n",
    "'''\n",
    "Cursor.execute(Query_Criar_Banco)"
   ]
  },
  {
   "cell_type": "code",
   "execution_count": 8,
   "metadata": {},
   "outputs": [],
   "source": [
    "Query_Inserir = '''\n",
    "    INSERT INTO Log_API (Inputs, Inicio, Fim, Processamento)\n",
    "    VALUES('480;4;5;3;0;1;0;0;742','01/01/2000 19:00:01', '01/01/2000 19:00:02','00:01')\n",
    "'''\n",
    "\n",
    "# Executar a Query\n",
    "\n",
    "Cursor.execute(Query_Inserir)\n",
    "\n",
    "#Commit\n",
    "Conexao_Banco.commit()"
   ]
  },
  {
   "cell_type": "code",
   "execution_count": 10,
   "metadata": {},
   "outputs": [
    {
     "data": {
      "text/plain": [
       "[(1,\n",
       "  '480;4;5;3;0;1;0;0;742',\n",
       "  '01/01/2000 19:00:01',\n",
       "  '01/01/2000 19:00:02',\n",
       "  '00:01')]"
      ]
     },
     "execution_count": 10,
     "metadata": {},
     "output_type": "execute_result"
    }
   ],
   "source": [
    "#Query --> Consulta\n",
    "\n",
    "Query_Consulta = '''\n",
    "SELECT * FROM Log_API\n",
    "'''\n",
    "Cursor.execute(Query_Consulta).fetchall()"
   ]
  }
 ],
 "metadata": {
  "kernelspec": {
   "display_name": "Python 3",
   "language": "python",
   "name": "python3"
  },
  "language_info": {
   "codemirror_mode": {
    "name": "ipython",
    "version": 3
   },
   "file_extension": ".py",
   "mimetype": "text/x-python",
   "name": "python",
   "nbconvert_exporter": "python",
   "pygments_lexer": "ipython3",
   "version": "3.10.6"
  },
  "orig_nbformat": 4
 },
 "nbformat": 4,
 "nbformat_minor": 2
}
