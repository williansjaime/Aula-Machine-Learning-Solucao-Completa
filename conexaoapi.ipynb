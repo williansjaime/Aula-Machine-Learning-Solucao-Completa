{
 "cells": [
  {
   "cell_type": "code",
   "execution_count": 15,
   "metadata": {},
   "outputs": [
    {
     "data": {
      "text/plain": [
       "{'Valor_Aluguel': '[9011.15168911]'}"
      ]
     },
     "execution_count": 15,
     "metadata": {},
     "output_type": "execute_result"
    }
   ],
   "source": [
    "import requests\n",
    "#Local da URL\n",
    "Url = 'http://127.0.0.1:5000/API_Preditivo/480;4;5;3;0;1;0;0;742'\n",
    "\n",
    "#Acessar a conexao\n",
    "Consulta = requests.get(Url)\n",
    "\n",
    "#Buscar a info\n",
    "Resposta = Consulta.json()\n",
    "\n",
    "#Devolução\n",
    "Resposta"
   ]
  }
 ],
 "metadata": {
  "kernelspec": {
   "display_name": "Python 3",
   "language": "python",
   "name": "python3"
  },
  "language_info": {
   "codemirror_mode": {
    "name": "ipython",
    "version": 3
   },
   "file_extension": ".py",
   "mimetype": "text/x-python",
   "name": "python",
   "nbconvert_exporter": "python",
   "pygments_lexer": "ipython3",
   "version": "3.10.6"
  },
  "orig_nbformat": 4
 },
 "nbformat": 4,
 "nbformat_minor": 2
}
